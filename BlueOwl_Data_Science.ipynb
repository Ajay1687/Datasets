{
  "nbformat": 4,
  "nbformat_minor": 0,
  "metadata": {
    "colab": {
      "name": "BlueOwl_Data_Science.ipynb",
      "provenance": [],
      "collapsed_sections": [],
      "authorship_tag": "ABX9TyPFKVT4sDIKZqQfs7qCp41k",
      "include_colab_link": true
    },
    "kernelspec": {
      "name": "python3",
      "display_name": "Python 3"
    }
  },
  "cells": [
    {
      "cell_type": "markdown",
      "metadata": {
        "id": "view-in-github",
        "colab_type": "text"
      },
      "source": [
        "<a href=\"https://colab.research.google.com/github/Ajay1687/Datasets/blob/master/BlueOwl_Data_Science.ipynb\" target=\"_parent\"><img src=\"https://colab.research.google.com/assets/colab-badge.svg\" alt=\"Open In Colab\"/></a>"
      ]
    },
    {
      "cell_type": "markdown",
      "metadata": {
        "id": "DcUJsmIr-uGg",
        "colab_type": "text"
      },
      "source": [
        "**Attuchirayil Krishnankutty**\n",
        "\n",
        "**Date : 02/01/2020**\n",
        "\n",
        "**Description: Processed variables by binning and encoding, then first predicted missing Gender. And then, since the data is highly imbalanced used a variant of SMOTE which involved first oversampling then undersampling data, and in the end used a Random Forest Classifier**\n",
        "\n",
        "**AUC: 0.955**"
      ]
    },
    {
      "cell_type": "code",
      "metadata": {
        "id": "YibUrVQNU3iH",
        "colab_type": "code",
        "colab": {}
      },
      "source": [
        "import pandas as pd\n",
        "import numpy as np\n",
        "import matplotlib.pyplot as plt\n",
        "from sklearn import preprocessing\n",
        "from sklearn.model_selection import train_test_split\n",
        "from imblearn.over_sampling import SMOTE \n",
        "from sklearn.ensemble import RandomForestClassifier\n",
        "from sklearn import metrics\n",
        "from sklearn.linear_model import LogisticRegression \n",
        "from sklearn.metrics import roc_auc_score,auc\n",
        "from sklearn.metrics import confusion_matrix, classification_report "
      ],
      "execution_count": 0,
      "outputs": []
    },
    {
      "cell_type": "code",
      "metadata": {
        "id": "wIzs5GQtXzqx",
        "colab_type": "code",
        "colab": {}
      },
      "source": [
        "from google.colab import files\n",
        "uploaded = files.upload()"
      ],
      "execution_count": 0,
      "outputs": []
    },
    {
      "cell_type": "code",
      "metadata": {
        "id": "g8wXb9gB_eBX",
        "colab_type": "code",
        "colab": {}
      },
      "source": [
        "train = pd.read_csv('train.csv')\n",
        "test = pd.read_csv('test.csv')"
      ],
      "execution_count": 0,
      "outputs": []
    },
    {
      "cell_type": "code",
      "metadata": {
        "id": "DM4Fujz6_uAG",
        "colab_type": "code",
        "colab": {
          "base_uri": "https://localhost:8080/",
          "height": 34
        },
        "outputId": "8cadc6ff-c70b-4850-9782-1ed820d272a3"
      },
      "source": [
        "train.shape,test.shape"
      ],
      "execution_count": 346,
      "outputs": [
        {
          "output_type": "execute_result",
          "data": {
            "text/plain": [
              "((10000, 10), (10000, 9))"
            ]
          },
          "metadata": {
            "tags": []
          },
          "execution_count": 346
        }
      ]
    },
    {
      "cell_type": "code",
      "metadata": {
        "id": "w2FPnmMZVymd",
        "colab_type": "code",
        "colab": {
          "base_uri": "https://localhost:8080/",
          "height": 272
        },
        "outputId": "7fd35a85-db2b-42d2-cf3f-946f205fa65d"
      },
      "source": [
        "train.info()"
      ],
      "execution_count": 347,
      "outputs": [
        {
          "output_type": "stream",
          "text": [
            "<class 'pandas.core.frame.DataFrame'>\n",
            "RangeIndex: 10000 entries, 0 to 9999\n",
            "Data columns (total 10 columns):\n",
            "age                           10000 non-null int64\n",
            "cost_of_ad                    10000 non-null float64\n",
            "device_type                   10000 non-null object\n",
            "gender                        9731 non-null object\n",
            "in_initial_launch_location    10000 non-null int64\n",
            "income                        10000 non-null int64\n",
            "n_drivers                     10000 non-null int64\n",
            "n_vehicles                    10000 non-null int64\n",
            "prior_ins_tenure              10000 non-null int64\n",
            "outcome                       10000 non-null int64\n",
            "dtypes: float64(1), int64(7), object(2)\n",
            "memory usage: 781.4+ KB\n"
          ],
          "name": "stdout"
        }
      ]
    },
    {
      "cell_type": "markdown",
      "metadata": {
        "id": "q2jtl_arXmVL",
        "colab_type": "text"
      },
      "source": [
        "**We can see the class imbalance below**"
      ]
    },
    {
      "cell_type": "code",
      "metadata": {
        "id": "bg9cheMn_hMA",
        "colab_type": "code",
        "colab": {
          "base_uri": "https://localhost:8080/",
          "height": 68
        },
        "outputId": "c185b12e-2e0d-4933-e23f-38a5a4d1bfc8"
      },
      "source": [
        "train['outcome'].value_counts()"
      ],
      "execution_count": 348,
      "outputs": [
        {
          "output_type": "execute_result",
          "data": {
            "text/plain": [
              "0    9018\n",
              "1     982\n",
              "Name: outcome, dtype: int64"
            ]
          },
          "metadata": {
            "tags": []
          },
          "execution_count": 348
        }
      ]
    },
    {
      "cell_type": "code",
      "metadata": {
        "id": "lnTzQLto_imu",
        "colab_type": "code",
        "colab": {
          "base_uri": "https://localhost:8080/",
          "height": 204
        },
        "outputId": "7c491ebc-b731-4676-8afb-7525b73e8fdd"
      },
      "source": [
        "train.head()"
      ],
      "execution_count": 349,
      "outputs": [
        {
          "output_type": "execute_result",
          "data": {
            "text/html": [
              "<div>\n",
              "<style scoped>\n",
              "    .dataframe tbody tr th:only-of-type {\n",
              "        vertical-align: middle;\n",
              "    }\n",
              "\n",
              "    .dataframe tbody tr th {\n",
              "        vertical-align: top;\n",
              "    }\n",
              "\n",
              "    .dataframe thead th {\n",
              "        text-align: right;\n",
              "    }\n",
              "</style>\n",
              "<table border=\"1\" class=\"dataframe\">\n",
              "  <thead>\n",
              "    <tr style=\"text-align: right;\">\n",
              "      <th></th>\n",
              "      <th>age</th>\n",
              "      <th>cost_of_ad</th>\n",
              "      <th>device_type</th>\n",
              "      <th>gender</th>\n",
              "      <th>in_initial_launch_location</th>\n",
              "      <th>income</th>\n",
              "      <th>n_drivers</th>\n",
              "      <th>n_vehicles</th>\n",
              "      <th>prior_ins_tenure</th>\n",
              "      <th>outcome</th>\n",
              "    </tr>\n",
              "  </thead>\n",
              "  <tbody>\n",
              "    <tr>\n",
              "      <th>0</th>\n",
              "      <td>56</td>\n",
              "      <td>0.005737</td>\n",
              "      <td>iPhone</td>\n",
              "      <td>M</td>\n",
              "      <td>0</td>\n",
              "      <td>62717</td>\n",
              "      <td>2</td>\n",
              "      <td>1</td>\n",
              "      <td>4</td>\n",
              "      <td>0</td>\n",
              "    </tr>\n",
              "    <tr>\n",
              "      <th>1</th>\n",
              "      <td>50</td>\n",
              "      <td>0.004733</td>\n",
              "      <td>desktop</td>\n",
              "      <td>F</td>\n",
              "      <td>0</td>\n",
              "      <td>64328</td>\n",
              "      <td>2</td>\n",
              "      <td>3</td>\n",
              "      <td>2</td>\n",
              "      <td>0</td>\n",
              "    </tr>\n",
              "    <tr>\n",
              "      <th>2</th>\n",
              "      <td>54</td>\n",
              "      <td>0.004129</td>\n",
              "      <td>laptop</td>\n",
              "      <td>M</td>\n",
              "      <td>0</td>\n",
              "      <td>83439</td>\n",
              "      <td>1</td>\n",
              "      <td>3</td>\n",
              "      <td>7</td>\n",
              "      <td>0</td>\n",
              "    </tr>\n",
              "    <tr>\n",
              "      <th>3</th>\n",
              "      <td>16</td>\n",
              "      <td>0.005117</td>\n",
              "      <td>Android</td>\n",
              "      <td>F</td>\n",
              "      <td>0</td>\n",
              "      <td>30110</td>\n",
              "      <td>2</td>\n",
              "      <td>3</td>\n",
              "      <td>0</td>\n",
              "      <td>0</td>\n",
              "    </tr>\n",
              "    <tr>\n",
              "      <th>4</th>\n",
              "      <td>37</td>\n",
              "      <td>0.003635</td>\n",
              "      <td>desktop</td>\n",
              "      <td>M</td>\n",
              "      <td>0</td>\n",
              "      <td>76565</td>\n",
              "      <td>2</td>\n",
              "      <td>1</td>\n",
              "      <td>5</td>\n",
              "      <td>0</td>\n",
              "    </tr>\n",
              "  </tbody>\n",
              "</table>\n",
              "</div>"
            ],
            "text/plain": [
              "   age  cost_of_ad device_type  ... n_vehicles  prior_ins_tenure  outcome\n",
              "0   56    0.005737      iPhone  ...          1                 4        0\n",
              "1   50    0.004733     desktop  ...          3                 2        0\n",
              "2   54    0.004129      laptop  ...          3                 7        0\n",
              "3   16    0.005117     Android  ...          3                 0        0\n",
              "4   37    0.003635     desktop  ...          1                 5        0\n",
              "\n",
              "[5 rows x 10 columns]"
            ]
          },
          "metadata": {
            "tags": []
          },
          "execution_count": 349
        }
      ]
    },
    {
      "cell_type": "markdown",
      "metadata": {
        "id": "3wCxTVqBX8Gu",
        "colab_type": "text"
      },
      "source": [
        "**Null values are present in the Gender column**"
      ]
    },
    {
      "cell_type": "code",
      "metadata": {
        "id": "uiBddKnR_8u3",
        "colab_type": "code",
        "colab": {
          "base_uri": "https://localhost:8080/",
          "height": 204
        },
        "outputId": "5ea75378-a535-48e9-8337-7822c9886eb4"
      },
      "source": [
        "train.isnull().sum()"
      ],
      "execution_count": 350,
      "outputs": [
        {
          "output_type": "execute_result",
          "data": {
            "text/plain": [
              "age                             0\n",
              "cost_of_ad                      0\n",
              "device_type                     0\n",
              "gender                        269\n",
              "in_initial_launch_location      0\n",
              "income                          0\n",
              "n_drivers                       0\n",
              "n_vehicles                      0\n",
              "prior_ins_tenure                0\n",
              "outcome                         0\n",
              "dtype: int64"
            ]
          },
          "metadata": {
            "tags": []
          },
          "execution_count": 350
        }
      ]
    },
    {
      "cell_type": "code",
      "metadata": {
        "id": "mB2WBLaFYNWr",
        "colab_type": "code",
        "colab": {
          "base_uri": "https://localhost:8080/",
          "height": 68
        },
        "outputId": "88dcfbbc-583a-4369-9d14-e968ab3e94ab"
      },
      "source": [
        "train['gender'].value_counts()"
      ],
      "execution_count": 351,
      "outputs": [
        {
          "output_type": "execute_result",
          "data": {
            "text/plain": [
              "F    4970\n",
              "M    4761\n",
              "Name: gender, dtype: int64"
            ]
          },
          "metadata": {
            "tags": []
          },
          "execution_count": 351
        }
      ]
    },
    {
      "cell_type": "markdown",
      "metadata": {
        "id": "J6DkGuG0Klu0",
        "colab_type": "text"
      },
      "source": [
        "**Apart from the missing values, Gender is well balanced**"
      ]
    },
    {
      "cell_type": "code",
      "metadata": {
        "id": "vEm1YhZnAE5f",
        "colab_type": "code",
        "colab": {
          "base_uri": "https://localhost:8080/",
          "height": 119
        },
        "outputId": "c13f4480-34aa-4752-a888-785c14d86004"
      },
      "source": [
        "train['device_type'].value_counts()"
      ],
      "execution_count": 352,
      "outputs": [
        {
          "output_type": "execute_result",
          "data": {
            "text/plain": [
              "desktop    2032\n",
              "Android    2023\n",
              "laptop     1991\n",
              "other      1986\n",
              "iPhone     1968\n",
              "Name: device_type, dtype: int64"
            ]
          },
          "metadata": {
            "tags": []
          },
          "execution_count": 352
        }
      ]
    },
    {
      "cell_type": "code",
      "metadata": {
        "id": "1VDAzoYpAZn6",
        "colab_type": "code",
        "colab": {
          "base_uri": "https://localhost:8080/",
          "height": 85
        },
        "outputId": "bf49b363-e4a2-4182-c8fc-36d8a08dee7e"
      },
      "source": [
        "train['n_vehicles'].value_counts()"
      ],
      "execution_count": 353,
      "outputs": [
        {
          "output_type": "execute_result",
          "data": {
            "text/plain": [
              "3    3355\n",
              "1    3333\n",
              "2    3312\n",
              "Name: n_vehicles, dtype: int64"
            ]
          },
          "metadata": {
            "tags": []
          },
          "execution_count": 353
        }
      ]
    },
    {
      "cell_type": "code",
      "metadata": {
        "id": "swwiuB5WCWOM",
        "colab_type": "code",
        "colab": {
          "base_uri": "https://localhost:8080/",
          "height": 85
        },
        "outputId": "6608a2d0-b346-4a5e-bf02-abfb589394dd"
      },
      "source": [
        "train['n_vehicles'].value_counts()"
      ],
      "execution_count": 354,
      "outputs": [
        {
          "output_type": "execute_result",
          "data": {
            "text/plain": [
              "3    3355\n",
              "1    3333\n",
              "2    3312\n",
              "Name: n_vehicles, dtype: int64"
            ]
          },
          "metadata": {
            "tags": []
          },
          "execution_count": 354
        }
      ]
    },
    {
      "cell_type": "code",
      "metadata": {
        "id": "Q2BXdo9PZemH",
        "colab_type": "code",
        "colab": {
          "base_uri": "https://localhost:8080/",
          "height": 68
        },
        "outputId": "3e99bc70-faf0-4fe8-8a61-b2eef609cd49"
      },
      "source": [
        "train['in_initial_launch_location'].value_counts()"
      ],
      "execution_count": 355,
      "outputs": [
        {
          "output_type": "execute_result",
          "data": {
            "text/plain": [
              "0    5025\n",
              "1    4975\n",
              "Name: in_initial_launch_location, dtype: int64"
            ]
          },
          "metadata": {
            "tags": []
          },
          "execution_count": 355
        }
      ]
    },
    {
      "cell_type": "markdown",
      "metadata": {
        "id": "RK0j9qLaZ1QS",
        "colab_type": "text"
      },
      "source": [
        "**We have Gender, n_driver,n_vehicles,in_initial_launch_location as Categorical variables**"
      ]
    },
    {
      "cell_type": "markdown",
      "metadata": {
        "id": "LEOyGwotaORJ",
        "colab_type": "text"
      },
      "source": [
        "**We need to normalize income column, also perform binning for columns age, prior_ins_tenure**"
      ]
    },
    {
      "cell_type": "code",
      "metadata": {
        "id": "QDx4r5JTZ0Mw",
        "colab_type": "code",
        "colab": {
          "base_uri": "https://localhost:8080/",
          "height": 336
        },
        "outputId": "5e38cccb-7246-43bf-d695-24fe719ba40a"
      },
      "source": [
        "train['income'].plot('hist')"
      ],
      "execution_count": 356,
      "outputs": [
        {
          "output_type": "stream",
          "text": [
            "/usr/local/lib/python3.6/dist-packages/ipykernel_launcher.py:1: FutureWarning: `Series.plot()` should not be called with positional arguments, only keyword arguments. The order of positional arguments will change in the future. Use `Series.plot(kind='hist')` instead of `Series.plot('hist',)`.\n",
            "  \"\"\"Entry point for launching an IPython kernel.\n"
          ],
          "name": "stderr"
        },
        {
          "output_type": "execute_result",
          "data": {
            "text/plain": [
              "<matplotlib.axes._subplots.AxesSubplot at 0x7fd53e5e82b0>"
            ]
          },
          "metadata": {
            "tags": []
          },
          "execution_count": 356
        },
        {
          "output_type": "display_data",
          "data": {
            "image/png": "[encoded data removed]",
            "text/plain": [
              "<Figure size 432x288 with 1 Axes>"
            ]
          },
          "metadata": {
            "tags": []
          }
        }
      ]
    },
    {
      "cell_type": "code",
      "metadata": {
        "id": "WBmCgm0-Csom",
        "colab_type": "code",
        "colab": {
          "base_uri": "https://localhost:8080/",
          "height": 336
        },
        "outputId": "278fc13d-dd3d-4e44-a9a0-d1d180ef45ed"
      },
      "source": [
        "train['age'].plot('hist')"
      ],
      "execution_count": 357,
      "outputs": [
        {
          "output_type": "stream",
          "text": [
            "/usr/local/lib/python3.6/dist-packages/ipykernel_launcher.py:1: FutureWarning: `Series.plot()` should not be called with positional arguments, only keyword arguments. The order of positional arguments will change in the future. Use `Series.plot(kind='hist')` instead of `Series.plot('hist',)`.\n",
            "  \"\"\"Entry point for launching an IPython kernel.\n"
          ],
          "name": "stderr"
        },
        {
          "output_type": "execute_result",
          "data": {
            "text/plain": [
              "<matplotlib.axes._subplots.AxesSubplot at 0x7fd53e563a58>"
            ]
          },
          "metadata": {
            "tags": []
          },
          "execution_count": 357
        },
        {
          "output_type": "display_data",
          "data": {
            "image/png": "[encoded data removed]",
            "text/plain": [
              "<Figure size 432x288 with 1 Axes>"
            ]
          },
          "metadata": {
            "tags": []
          }
        }
      ]
    },
    {
      "cell_type": "markdown",
      "metadata": {
        "id": "UWvW-1k9LAMm",
        "colab_type": "text"
      },
      "source": [
        "**Normalizig the income, performing on both train and test**"
      ]
    },
    {
      "cell_type": "code",
      "metadata": {
        "id": "6j2V1Je1IgCq",
        "colab_type": "code",
        "colab": {}
      },
      "source": [
        "#Train\n",
        "x = train[['income']].values.astype(float)\n",
        "min_max_scaler = preprocessing.MinMaxScaler()\n",
        "\n",
        "x_scaled = min_max_scaler.fit_transform(x)\n",
        "\n",
        "train['normal_income'] = pd.DataFrame(x_scaled)"
      ],
      "execution_count": 0,
      "outputs": []
    },
    {
      "cell_type": "code",
      "metadata": {
        "id": "Tx8EIkbhax8O",
        "colab_type": "code",
        "colab": {}
      },
      "source": [
        "#Test\n",
        "x = test[['income']].values.astype(float)\n",
        "min_max_scaler = preprocessing.MinMaxScaler()\n",
        "\n",
        "x_scaled = min_max_scaler.fit_transform(x)\n",
        "\n",
        "test['normal_income'] = pd.DataFrame(x_scaled)"
      ],
      "execution_count": 0,
      "outputs": []
    },
    {
      "cell_type": "code",
      "metadata": {
        "id": "2roAemljJAD5",
        "colab_type": "code",
        "colab": {
          "base_uri": "https://localhost:8080/",
          "height": 204
        },
        "outputId": "0bdc642f-7c93-4351-8308-f9e8d94a6a61"
      },
      "source": [
        "train.head()"
      ],
      "execution_count": 360,
      "outputs": [
        {
          "output_type": "execute_result",
          "data": {
            "text/html": [
              "<div>\n",
              "<style scoped>\n",
              "    .dataframe tbody tr th:only-of-type {\n",
              "        vertical-align: middle;\n",
              "    }\n",
              "\n",
              "    .dataframe tbody tr th {\n",
              "        vertical-align: top;\n",
              "    }\n",
              "\n",
              "    .dataframe thead th {\n",
              "        text-align: right;\n",
              "    }\n",
              "</style>\n",
              "<table border=\"1\" class=\"dataframe\">\n",
              "  <thead>\n",
              "    <tr style=\"text-align: right;\">\n",
              "      <th></th>\n",
              "      <th>age</th>\n",
              "      <th>cost_of_ad</th>\n",
              "      <th>device_type</th>\n",
              "      <th>gender</th>\n",
              "      <th>in_initial_launch_location</th>\n",
              "      <th>income</th>\n",
              "      <th>n_drivers</th>\n",
              "      <th>n_vehicles</th>\n",
              "      <th>prior_ins_tenure</th>\n",
              "      <th>outcome</th>\n",
              "      <th>normal_income</th>\n",
              "    </tr>\n",
              "  </thead>\n",
              "  <tbody>\n",
              "    <tr>\n",
              "      <th>0</th>\n",
              "      <td>56</td>\n",
              "      <td>0.005737</td>\n",
              "      <td>iPhone</td>\n",
              "      <td>M</td>\n",
              "      <td>0</td>\n",
              "      <td>62717</td>\n",
              "      <td>2</td>\n",
              "      <td>1</td>\n",
              "      <td>4</td>\n",
              "      <td>0</td>\n",
              "      <td>0.555169</td>\n",
              "    </tr>\n",
              "    <tr>\n",
              "      <th>1</th>\n",
              "      <td>50</td>\n",
              "      <td>0.004733</td>\n",
              "      <td>desktop</td>\n",
              "      <td>F</td>\n",
              "      <td>0</td>\n",
              "      <td>64328</td>\n",
              "      <td>2</td>\n",
              "      <td>3</td>\n",
              "      <td>2</td>\n",
              "      <td>0</td>\n",
              "      <td>0.574413</td>\n",
              "    </tr>\n",
              "    <tr>\n",
              "      <th>2</th>\n",
              "      <td>54</td>\n",
              "      <td>0.004129</td>\n",
              "      <td>laptop</td>\n",
              "      <td>M</td>\n",
              "      <td>0</td>\n",
              "      <td>83439</td>\n",
              "      <td>1</td>\n",
              "      <td>3</td>\n",
              "      <td>7</td>\n",
              "      <td>0</td>\n",
              "      <td>0.802700</td>\n",
              "    </tr>\n",
              "    <tr>\n",
              "      <th>3</th>\n",
              "      <td>16</td>\n",
              "      <td>0.005117</td>\n",
              "      <td>Android</td>\n",
              "      <td>F</td>\n",
              "      <td>0</td>\n",
              "      <td>30110</td>\n",
              "      <td>2</td>\n",
              "      <td>3</td>\n",
              "      <td>0</td>\n",
              "      <td>0</td>\n",
              "      <td>0.165669</td>\n",
              "    </tr>\n",
              "    <tr>\n",
              "      <th>4</th>\n",
              "      <td>37</td>\n",
              "      <td>0.003635</td>\n",
              "      <td>desktop</td>\n",
              "      <td>M</td>\n",
              "      <td>0</td>\n",
              "      <td>76565</td>\n",
              "      <td>2</td>\n",
              "      <td>1</td>\n",
              "      <td>5</td>\n",
              "      <td>0</td>\n",
              "      <td>0.720588</td>\n",
              "    </tr>\n",
              "  </tbody>\n",
              "</table>\n",
              "</div>"
            ],
            "text/plain": [
              "   age  cost_of_ad device_type  ... prior_ins_tenure  outcome  normal_income\n",
              "0   56    0.005737      iPhone  ...                4        0       0.555169\n",
              "1   50    0.004733     desktop  ...                2        0       0.574413\n",
              "2   54    0.004129      laptop  ...                7        0       0.802700\n",
              "3   16    0.005117     Android  ...                0        0       0.165669\n",
              "4   37    0.003635     desktop  ...                5        0       0.720588\n",
              "\n",
              "[5 rows x 11 columns]"
            ]
          },
          "metadata": {
            "tags": []
          },
          "execution_count": 360
        }
      ]
    },
    {
      "cell_type": "markdown",
      "metadata": {
        "id": "1aA0uSppLhKP",
        "colab_type": "text"
      },
      "source": [
        "**One hot encoding device_type,n_drivers,n_vehicles**"
      ]
    },
    {
      "cell_type": "code",
      "metadata": {
        "id": "_gWwjy8KJMsc",
        "colab_type": "code",
        "colab": {}
      },
      "source": [
        "new_train = pd.get_dummies(train,prefix=['drivers','device','vehicle'],columns = ['n_drivers','device_type','n_vehicles'],drop_first=True)\n",
        "new_test = pd.get_dummies(test,prefix=['drivers','device','vehicle'],columns = ['n_drivers','device_type','n_vehicles'],drop_first=True)"
      ],
      "execution_count": 0,
      "outputs": []
    },
    {
      "cell_type": "code",
      "metadata": {
        "id": "1opOhhVKa73K",
        "colab_type": "code",
        "colab": {}
      },
      "source": [
        "new_train.drop(columns = 'income',inplace = True)\n",
        "new_test.drop(columns = 'income',inplace = True)"
      ],
      "execution_count": 0,
      "outputs": []
    },
    {
      "cell_type": "code",
      "metadata": {
        "id": "cNWVzI9J4oHK",
        "colab_type": "code",
        "colab": {
          "base_uri": "https://localhost:8080/",
          "height": 224
        },
        "outputId": "09574f7f-eb57-416c-e785-565d592a17f5"
      },
      "source": [
        "new_train.head()"
      ],
      "execution_count": 363,
      "outputs": [
        {
          "output_type": "execute_result",
          "data": {
            "text/html": [
              "<div>\n",
              "<style scoped>\n",
              "    .dataframe tbody tr th:only-of-type {\n",
              "        vertical-align: middle;\n",
              "    }\n",
              "\n",
              "    .dataframe tbody tr th {\n",
              "        vertical-align: top;\n",
              "    }\n",
              "\n",
              "    .dataframe thead th {\n",
              "        text-align: right;\n",
              "    }\n",
              "</style>\n",
              "<table border=\"1\" class=\"dataframe\">\n",
              "  <thead>\n",
              "    <tr style=\"text-align: right;\">\n",
              "      <th></th>\n",
              "      <th>age</th>\n",
              "      <th>cost_of_ad</th>\n",
              "      <th>gender</th>\n",
              "      <th>in_initial_launch_location</th>\n",
              "      <th>prior_ins_tenure</th>\n",
              "      <th>outcome</th>\n",
              "      <th>normal_income</th>\n",
              "      <th>drivers_2</th>\n",
              "      <th>device_desktop</th>\n",
              "      <th>device_iPhone</th>\n",
              "      <th>device_laptop</th>\n",
              "      <th>device_other</th>\n",
              "      <th>vehicle_2</th>\n",
              "      <th>vehicle_3</th>\n",
              "    </tr>\n",
              "  </thead>\n",
              "  <tbody>\n",
              "    <tr>\n",
              "      <th>0</th>\n",
              "      <td>56</td>\n",
              "      <td>0.005737</td>\n",
              "      <td>M</td>\n",
              "      <td>0</td>\n",
              "      <td>4</td>\n",
              "      <td>0</td>\n",
              "      <td>0.555169</td>\n",
              "      <td>1</td>\n",
              "      <td>0</td>\n",
              "      <td>1</td>\n",
              "      <td>0</td>\n",
              "      <td>0</td>\n",
              "      <td>0</td>\n",
              "      <td>0</td>\n",
              "    </tr>\n",
              "    <tr>\n",
              "      <th>1</th>\n",
              "      <td>50</td>\n",
              "      <td>0.004733</td>\n",
              "      <td>F</td>\n",
              "      <td>0</td>\n",
              "      <td>2</td>\n",
              "      <td>0</td>\n",
              "      <td>0.574413</td>\n",
              "      <td>1</td>\n",
              "      <td>1</td>\n",
              "      <td>0</td>\n",
              "      <td>0</td>\n",
              "      <td>0</td>\n",
              "      <td>0</td>\n",
              "      <td>1</td>\n",
              "    </tr>\n",
              "    <tr>\n",
              "      <th>2</th>\n",
              "      <td>54</td>\n",
              "      <td>0.004129</td>\n",
              "      <td>M</td>\n",
              "      <td>0</td>\n",
              "      <td>7</td>\n",
              "      <td>0</td>\n",
              "      <td>0.802700</td>\n",
              "      <td>0</td>\n",
              "      <td>0</td>\n",
              "      <td>0</td>\n",
              "      <td>1</td>\n",
              "      <td>0</td>\n",
              "      <td>0</td>\n",
              "      <td>1</td>\n",
              "    </tr>\n",
              "    <tr>\n",
              "      <th>3</th>\n",
              "      <td>16</td>\n",
              "      <td>0.005117</td>\n",
              "      <td>F</td>\n",
              "      <td>0</td>\n",
              "      <td>0</td>\n",
              "      <td>0</td>\n",
              "      <td>0.165669</td>\n",
              "      <td>1</td>\n",
              "      <td>0</td>\n",
              "      <td>0</td>\n",
              "      <td>0</td>\n",
              "      <td>0</td>\n",
              "      <td>0</td>\n",
              "      <td>1</td>\n",
              "    </tr>\n",
              "    <tr>\n",
              "      <th>4</th>\n",
              "      <td>37</td>\n",
              "      <td>0.003635</td>\n",
              "      <td>M</td>\n",
              "      <td>0</td>\n",
              "      <td>5</td>\n",
              "      <td>0</td>\n",
              "      <td>0.720588</td>\n",
              "      <td>1</td>\n",
              "      <td>1</td>\n",
              "      <td>0</td>\n",
              "      <td>0</td>\n",
              "      <td>0</td>\n",
              "      <td>0</td>\n",
              "      <td>0</td>\n",
              "    </tr>\n",
              "  </tbody>\n",
              "</table>\n",
              "</div>"
            ],
            "text/plain": [
              "   age  cost_of_ad gender  ...  device_other  vehicle_2  vehicle_3\n",
              "0   56    0.005737      M  ...             0          0          0\n",
              "1   50    0.004733      F  ...             0          0          1\n",
              "2   54    0.004129      M  ...             0          0          1\n",
              "3   16    0.005117      F  ...             0          0          1\n",
              "4   37    0.003635      M  ...             0          0          0\n",
              "\n",
              "[5 rows x 14 columns]"
            ]
          },
          "metadata": {
            "tags": []
          },
          "execution_count": 363
        }
      ]
    },
    {
      "cell_type": "markdown",
      "metadata": {
        "id": "keJrBsuSMHqZ",
        "colab_type": "text"
      },
      "source": [
        "**Binning the Age age and ins_tenure columns**"
      ]
    },
    {
      "cell_type": "code",
      "metadata": {
        "id": "2tSihrI44uJ9",
        "colab_type": "code",
        "colab": {
          "base_uri": "https://localhost:8080/",
          "height": 336
        },
        "outputId": "cfddfe01-7aee-40a3-8661-18bebe021569"
      },
      "source": [
        "new_train['prior_ins_tenure'].plot('hist')"
      ],
      "execution_count": 364,
      "outputs": [
        {
          "output_type": "stream",
          "text": [
            "/usr/local/lib/python3.6/dist-packages/ipykernel_launcher.py:1: FutureWarning: `Series.plot()` should not be called with positional arguments, only keyword arguments. The order of positional arguments will change in the future. Use `Series.plot(kind='hist')` instead of `Series.plot('hist',)`.\n",
            "  \"\"\"Entry point for launching an IPython kernel.\n"
          ],
          "name": "stderr"
        },
        {
          "output_type": "execute_result",
          "data": {
            "text/plain": [
              "<matplotlib.axes._subplots.AxesSubplot at 0x7fd53e523208>"
            ]
          },
          "metadata": {
            "tags": []
          },
          "execution_count": 364
        },
        {
          "output_type": "display_data",
          "data": {
            "image/png": "[encoded data removed]",
            "text/plain": [
              "<Figure size 432x288 with 1 Axes>"
            ]
          },
          "metadata": {
            "tags": []
          }
        }
      ]
    },
    {
      "cell_type": "code",
      "metadata": {
        "id": "mynmnLa89LYS",
        "colab_type": "code",
        "colab": {}
      },
      "source": [
        "new_train['tenure_bin'] = pd.qcut(new_train['prior_ins_tenure'],q = 4,labels=[1,2,3,4])\n",
        "new_test['tenure_bin'] = pd.qcut(new_test['prior_ins_tenure'],q = 4,labels=[1,2,3,4])\n",
        "#Age Bins\n",
        "age_bins = [10,25,35,50,70]\n",
        "new_train['age_bin'] = pd.cut(new_train['age'],bins = age_bins,labels=['young','adult','mid','senior'])\n",
        "new_test['age_bin'] = pd.cut(new_test['age'],bins = age_bins,labels=['young','adult','mid','senior'])"
      ],
      "execution_count": 0,
      "outputs": []
    },
    {
      "cell_type": "code",
      "metadata": {
        "id": "Qf24jw21VtZD",
        "colab_type": "code",
        "colab": {}
      },
      "source": [
        "new_train.drop(columns=['age','prior_ins_tenure'],inplace=True)\n",
        "new_test.drop(columns=['age','prior_ins_tenure'],inplace=True)"
      ],
      "execution_count": 0,
      "outputs": []
    },
    {
      "cell_type": "code",
      "metadata": {
        "id": "pDiXiBu3Oy6X",
        "colab_type": "code",
        "colab": {
          "base_uri": "https://localhost:8080/",
          "height": 224
        },
        "outputId": "be3d3427-67e6-4050-8aed-02c0933f3fdc"
      },
      "source": [
        "new_train.head()"
      ],
      "execution_count": 367,
      "outputs": [
        {
          "output_type": "execute_result",
          "data": {
            "text/html": [
              "<div>\n",
              "<style scoped>\n",
              "    .dataframe tbody tr th:only-of-type {\n",
              "        vertical-align: middle;\n",
              "    }\n",
              "\n",
              "    .dataframe tbody tr th {\n",
              "        vertical-align: top;\n",
              "    }\n",
              "\n",
              "    .dataframe thead th {\n",
              "        text-align: right;\n",
              "    }\n",
              "</style>\n",
              "<table border=\"1\" class=\"dataframe\">\n",
              "  <thead>\n",
              "    <tr style=\"text-align: right;\">\n",
              "      <th></th>\n",
              "      <th>cost_of_ad</th>\n",
              "      <th>gender</th>\n",
              "      <th>in_initial_launch_location</th>\n",
              "      <th>outcome</th>\n",
              "      <th>normal_income</th>\n",
              "      <th>drivers_2</th>\n",
              "      <th>device_desktop</th>\n",
              "      <th>device_iPhone</th>\n",
              "      <th>device_laptop</th>\n",
              "      <th>device_other</th>\n",
              "      <th>vehicle_2</th>\n",
              "      <th>vehicle_3</th>\n",
              "      <th>tenure_bin</th>\n",
              "      <th>age_bin</th>\n",
              "    </tr>\n",
              "  </thead>\n",
              "  <tbody>\n",
              "    <tr>\n",
              "      <th>0</th>\n",
              "      <td>0.005737</td>\n",
              "      <td>M</td>\n",
              "      <td>0</td>\n",
              "      <td>0</td>\n",
              "      <td>0.555169</td>\n",
              "      <td>1</td>\n",
              "      <td>0</td>\n",
              "      <td>1</td>\n",
              "      <td>0</td>\n",
              "      <td>0</td>\n",
              "      <td>0</td>\n",
              "      <td>0</td>\n",
              "      <td>2</td>\n",
              "      <td>senior</td>\n",
              "    </tr>\n",
              "    <tr>\n",
              "      <th>1</th>\n",
              "      <td>0.004733</td>\n",
              "      <td>F</td>\n",
              "      <td>0</td>\n",
              "      <td>0</td>\n",
              "      <td>0.574413</td>\n",
              "      <td>1</td>\n",
              "      <td>1</td>\n",
              "      <td>0</td>\n",
              "      <td>0</td>\n",
              "      <td>0</td>\n",
              "      <td>0</td>\n",
              "      <td>1</td>\n",
              "      <td>2</td>\n",
              "      <td>mid</td>\n",
              "    </tr>\n",
              "    <tr>\n",
              "      <th>2</th>\n",
              "      <td>0.004129</td>\n",
              "      <td>M</td>\n",
              "      <td>0</td>\n",
              "      <td>0</td>\n",
              "      <td>0.802700</td>\n",
              "      <td>0</td>\n",
              "      <td>0</td>\n",
              "      <td>0</td>\n",
              "      <td>1</td>\n",
              "      <td>0</td>\n",
              "      <td>0</td>\n",
              "      <td>1</td>\n",
              "      <td>3</td>\n",
              "      <td>senior</td>\n",
              "    </tr>\n",
              "    <tr>\n",
              "      <th>3</th>\n",
              "      <td>0.005117</td>\n",
              "      <td>F</td>\n",
              "      <td>0</td>\n",
              "      <td>0</td>\n",
              "      <td>0.165669</td>\n",
              "      <td>1</td>\n",
              "      <td>0</td>\n",
              "      <td>0</td>\n",
              "      <td>0</td>\n",
              "      <td>0</td>\n",
              "      <td>0</td>\n",
              "      <td>1</td>\n",
              "      <td>1</td>\n",
              "      <td>young</td>\n",
              "    </tr>\n",
              "    <tr>\n",
              "      <th>4</th>\n",
              "      <td>0.003635</td>\n",
              "      <td>M</td>\n",
              "      <td>0</td>\n",
              "      <td>0</td>\n",
              "      <td>0.720588</td>\n",
              "      <td>1</td>\n",
              "      <td>1</td>\n",
              "      <td>0</td>\n",
              "      <td>0</td>\n",
              "      <td>0</td>\n",
              "      <td>0</td>\n",
              "      <td>0</td>\n",
              "      <td>3</td>\n",
              "      <td>mid</td>\n",
              "    </tr>\n",
              "  </tbody>\n",
              "</table>\n",
              "</div>"
            ],
            "text/plain": [
              "   cost_of_ad gender  in_initial_launch_location  ...  vehicle_3  tenure_bin  age_bin\n",
              "0    0.005737      M                           0  ...          0           2   senior\n",
              "1    0.004733      F                           0  ...          1           2      mid\n",
              "2    0.004129      M                           0  ...          1           3   senior\n",
              "3    0.005117      F                           0  ...          1           1    young\n",
              "4    0.003635      M                           0  ...          0           3      mid\n",
              "\n",
              "[5 rows x 14 columns]"
            ]
          },
          "metadata": {
            "tags": []
          },
          "execution_count": 367
        }
      ]
    },
    {
      "cell_type": "code",
      "metadata": {
        "id": "qQuNkVztW3we",
        "colab_type": "code",
        "colab": {}
      },
      "source": [
        "#Encodig binned columns age and tenure\n",
        "new_train = pd.get_dummies(new_train,prefix=['age'],columns = ['age_bin'],drop_first=True)\n",
        "new_test = pd.get_dummies(new_test,prefix=['age'],columns = ['age_bin'],drop_first=True)\n",
        "\n",
        "new_train = pd.get_dummies(new_train,prefix=['tenure'],columns = ['tenure_bin'],drop_first=True)\n",
        "new_test = pd.get_dummies(new_test,prefix=['tenure'],columns = ['tenure_bin'],drop_first=True)\n"
      ],
      "execution_count": 0,
      "outputs": []
    },
    {
      "cell_type": "markdown",
      "metadata": {
        "id": "gFZArcJ-PJ_a",
        "colab_type": "text"
      },
      "source": [
        "**We can now predict the Gender missing values first**"
      ]
    },
    {
      "cell_type": "code",
      "metadata": {
        "id": "mmj_ru4KSluc",
        "colab_type": "code",
        "colab": {}
      },
      "source": [
        "Y_outcome = new_train['outcome']"
      ],
      "execution_count": 0,
      "outputs": []
    },
    {
      "cell_type": "code",
      "metadata": {
        "id": "DcJSK7KSSugM",
        "colab_type": "code",
        "colab": {}
      },
      "source": [
        "new_train.drop(['outcome'],axis =1,inplace=True)"
      ],
      "execution_count": 0,
      "outputs": []
    },
    {
      "cell_type": "code",
      "metadata": {
        "id": "rKY_6UP1WChd",
        "colab_type": "code",
        "colab": {}
      },
      "source": [
        "#Train Data\n",
        "gender_test = new_train[new_train['gender'].isnull()]\n",
        "gender_train = new_train[new_train['gender'].notnull()]\n",
        "\n",
        "#Test Data\n",
        "new_test_gender_test = new_test[new_test['gender'].isnull()]\n",
        "new_test_gender_train = new_test[new_test['gender'].notnull()]"
      ],
      "execution_count": 0,
      "outputs": []
    },
    {
      "cell_type": "code",
      "metadata": {
        "id": "-UaPC4bRkFR1",
        "colab_type": "code",
        "colab": {
          "base_uri": "https://localhost:8080/",
          "height": 34
        },
        "outputId": "46f9264f-9989-46ab-d40c-c1959420078a"
      },
      "source": [
        "gender_train.shape,gender_test.shape"
      ],
      "execution_count": 372,
      "outputs": [
        {
          "output_type": "execute_result",
          "data": {
            "text/plain": [
              "((9731, 17), (269, 17))"
            ]
          },
          "metadata": {
            "tags": []
          },
          "execution_count": 372
        }
      ]
    },
    {
      "cell_type": "code",
      "metadata": {
        "id": "8awr8QvbYLRs",
        "colab_type": "code",
        "colab": {}
      },
      "source": [
        "gender_train = pd.get_dummies(gender_train,prefix=['Gen'],columns = ['gender'],drop_first=True)\n",
        "new_test_gender_train = pd.get_dummies(new_test_gender_train,prefix=['Gen'],columns = ['gender'],drop_first=True)"
      ],
      "execution_count": 0,
      "outputs": []
    },
    {
      "cell_type": "code",
      "metadata": {
        "id": "Z2Niz6xjYl1P",
        "colab_type": "code",
        "colab": {
          "base_uri": "https://localhost:8080/",
          "height": 224
        },
        "outputId": "de8dcd7f-3fd2-4c17-a163-4ed5a41e7190"
      },
      "source": [
        "gender_train.head()"
      ],
      "execution_count": 374,
      "outputs": [
        {
          "output_type": "execute_result",
          "data": {
            "text/html": [
              "<div>\n",
              "<style scoped>\n",
              "    .dataframe tbody tr th:only-of-type {\n",
              "        vertical-align: middle;\n",
              "    }\n",
              "\n",
              "    .dataframe tbody tr th {\n",
              "        vertical-align: top;\n",
              "    }\n",
              "\n",
              "    .dataframe thead th {\n",
              "        text-align: right;\n",
              "    }\n",
              "</style>\n",
              "<table border=\"1\" class=\"dataframe\">\n",
              "  <thead>\n",
              "    <tr style=\"text-align: right;\">\n",
              "      <th></th>\n",
              "      <th>cost_of_ad</th>\n",
              "      <th>in_initial_launch_location</th>\n",
              "      <th>normal_income</th>\n",
              "      <th>drivers_2</th>\n",
              "      <th>device_desktop</th>\n",
              "      <th>device_iPhone</th>\n",
              "      <th>device_laptop</th>\n",
              "      <th>device_other</th>\n",
              "      <th>vehicle_2</th>\n",
              "      <th>vehicle_3</th>\n",
              "      <th>age_adult</th>\n",
              "      <th>age_mid</th>\n",
              "      <th>age_senior</th>\n",
              "      <th>tenure_2</th>\n",
              "      <th>tenure_3</th>\n",
              "      <th>tenure_4</th>\n",
              "      <th>Gen_M</th>\n",
              "    </tr>\n",
              "  </thead>\n",
              "  <tbody>\n",
              "    <tr>\n",
              "      <th>0</th>\n",
              "      <td>0.005737</td>\n",
              "      <td>0</td>\n",
              "      <td>0.555169</td>\n",
              "      <td>1</td>\n",
              "      <td>0</td>\n",
              "      <td>1</td>\n",
              "      <td>0</td>\n",
              "      <td>0</td>\n",
              "      <td>0</td>\n",
              "      <td>0</td>\n",
              "      <td>0</td>\n",
              "      <td>0</td>\n",
              "      <td>1</td>\n",
              "      <td>1</td>\n",
              "      <td>0</td>\n",
              "      <td>0</td>\n",
              "      <td>1</td>\n",
              "    </tr>\n",
              "    <tr>\n",
              "      <th>1</th>\n",
              "      <td>0.004733</td>\n",
              "      <td>0</td>\n",
              "      <td>0.574413</td>\n",
              "      <td>1</td>\n",
              "      <td>1</td>\n",
              "      <td>0</td>\n",
              "      <td>0</td>\n",
              "      <td>0</td>\n",
              "      <td>0</td>\n",
              "      <td>1</td>\n",
              "      <td>0</td>\n",
              "      <td>1</td>\n",
              "      <td>0</td>\n",
              "      <td>1</td>\n",
              "      <td>0</td>\n",
              "      <td>0</td>\n",
              "      <td>0</td>\n",
              "    </tr>\n",
              "    <tr>\n",
              "      <th>2</th>\n",
              "      <td>0.004129</td>\n",
              "      <td>0</td>\n",
              "      <td>0.802700</td>\n",
              "      <td>0</td>\n",
              "      <td>0</td>\n",
              "      <td>0</td>\n",
              "      <td>1</td>\n",
              "      <td>0</td>\n",
              "      <td>0</td>\n",
              "      <td>1</td>\n",
              "      <td>0</td>\n",
              "      <td>0</td>\n",
              "      <td>1</td>\n",
              "      <td>0</td>\n",
              "      <td>1</td>\n",
              "      <td>0</td>\n",
              "      <td>1</td>\n",
              "    </tr>\n",
              "    <tr>\n",
              "      <th>3</th>\n",
              "      <td>0.005117</td>\n",
              "      <td>0</td>\n",
              "      <td>0.165669</td>\n",
              "      <td>1</td>\n",
              "      <td>0</td>\n",
              "      <td>0</td>\n",
              "      <td>0</td>\n",
              "      <td>0</td>\n",
              "      <td>0</td>\n",
              "      <td>1</td>\n",
              "      <td>0</td>\n",
              "      <td>0</td>\n",
              "      <td>0</td>\n",
              "      <td>0</td>\n",
              "      <td>0</td>\n",
              "      <td>0</td>\n",
              "      <td>0</td>\n",
              "    </tr>\n",
              "    <tr>\n",
              "      <th>4</th>\n",
              "      <td>0.003635</td>\n",
              "      <td>0</td>\n",
              "      <td>0.720588</td>\n",
              "      <td>1</td>\n",
              "      <td>1</td>\n",
              "      <td>0</td>\n",
              "      <td>0</td>\n",
              "      <td>0</td>\n",
              "      <td>0</td>\n",
              "      <td>0</td>\n",
              "      <td>0</td>\n",
              "      <td>1</td>\n",
              "      <td>0</td>\n",
              "      <td>0</td>\n",
              "      <td>1</td>\n",
              "      <td>0</td>\n",
              "      <td>1</td>\n",
              "    </tr>\n",
              "  </tbody>\n",
              "</table>\n",
              "</div>"
            ],
            "text/plain": [
              "   cost_of_ad  in_initial_launch_location  ...  tenure_4  Gen_M\n",
              "0    0.005737                           0  ...         0      1\n",
              "1    0.004733                           0  ...         0      0\n",
              "2    0.004129                           0  ...         0      1\n",
              "3    0.005117                           0  ...         0      0\n",
              "4    0.003635                           0  ...         0      1\n",
              "\n",
              "[5 rows x 17 columns]"
            ]
          },
          "metadata": {
            "tags": []
          },
          "execution_count": 374
        }
      ]
    },
    {
      "cell_type": "code",
      "metadata": {
        "id": "yMSfVkSMUmn_",
        "colab_type": "code",
        "colab": {}
      },
      "source": [
        "Y_gender = gender_train['Gen_M']\n"
      ],
      "execution_count": 0,
      "outputs": []
    },
    {
      "cell_type": "code",
      "metadata": {
        "id": "Z7TfDXWHUPjd",
        "colab_type": "code",
        "colab": {
          "base_uri": "https://localhost:8080/",
          "height": 102
        },
        "outputId": "f6fff77c-8f24-4292-b4ea-efa89f0baadc"
      },
      "source": [
        "#Train\n",
        "gender_train.drop(['Gen_M'],axis =1,inplace=True)\n",
        "gender_test.drop(['gender'],axis =1,inplace=True)\n",
        "\n",
        "#Test\n",
        "#new_test_gender_train.drop(['Gen_M'],axis =1,inplace=True)\n",
        "new_test_gender_test.drop(['gender'],axis =1,inplace=True)\n"
      ],
      "execution_count": 376,
      "outputs": [
        {
          "output_type": "stream",
          "text": [
            "/usr/local/lib/python3.6/dist-packages/pandas/core/frame.py:4117: SettingWithCopyWarning: \n",
            "A value is trying to be set on a copy of a slice from a DataFrame\n",
            "\n",
            "See the caveats in the documentation: http://pandas.pydata.org/pandas-docs/stable/user_guide/indexing.html#returning-a-view-versus-a-copy\n",
            "  errors=errors,\n"
          ],
          "name": "stderr"
        }
      ]
    },
    {
      "cell_type": "code",
      "metadata": {
        "id": "vwO_XhZpWJ7V",
        "colab_type": "code",
        "colab": {}
      },
      "source": [
        "X_gender_train, X_gender_test, y_gender_train, y_gender_test = train_test_split(gender_train, Y_gender, test_size=0.33, random_state=42)"
      ],
      "execution_count": 0,
      "outputs": []
    },
    {
      "cell_type": "code",
      "metadata": {
        "id": "y_ROT1hskcSK",
        "colab_type": "code",
        "colab": {
          "base_uri": "https://localhost:8080/",
          "height": 34
        },
        "outputId": "7267d940-1706-4500-f081-53a944b6f785"
      },
      "source": [
        "X_gender_train.shape,y_gender_train.shape"
      ],
      "execution_count": 378,
      "outputs": [
        {
          "output_type": "execute_result",
          "data": {
            "text/plain": [
              "((6519, 16), (6519,))"
            ]
          },
          "metadata": {
            "tags": []
          },
          "execution_count": 378
        }
      ]
    },
    {
      "cell_type": "code",
      "metadata": {
        "id": "zB31dYtektCE",
        "colab_type": "code",
        "colab": {
          "base_uri": "https://localhost:8080/",
          "height": 68
        },
        "outputId": "c49ce58b-abf9-49ac-af2e-aef211acb696"
      },
      "source": [
        "y_gender_test.value_counts()"
      ],
      "execution_count": 379,
      "outputs": [
        {
          "output_type": "execute_result",
          "data": {
            "text/plain": [
              "0    1671\n",
              "1    1541\n",
              "Name: Gen_M, dtype: int64"
            ]
          },
          "metadata": {
            "tags": []
          },
          "execution_count": 379
        }
      ]
    },
    {
      "cell_type": "code",
      "metadata": {
        "id": "-2J0YZ1rWkq8",
        "colab_type": "code",
        "colab": {
          "base_uri": "https://localhost:8080/",
          "height": 153
        },
        "outputId": "b840fedb-89ef-49fe-bb7e-54c46efa7d59"
      },
      "source": [
        "gender_model=RandomForestClassifier(n_estimators=100)\n",
        "gender_model.fit(X_gender_train,y_gender_train)"
      ],
      "execution_count": 380,
      "outputs": [
        {
          "output_type": "execute_result",
          "data": {
            "text/plain": [
              "RandomForestClassifier(bootstrap=True, ccp_alpha=0.0, class_weight=None,\n",
              "                       criterion='gini', max_depth=None, max_features='auto',\n",
              "                       max_leaf_nodes=None, max_samples=None,\n",
              "                       min_impurity_decrease=0.0, min_impurity_split=None,\n",
              "                       min_samples_leaf=1, min_samples_split=2,\n",
              "                       min_weight_fraction_leaf=0.0, n_estimators=100,\n",
              "                       n_jobs=None, oob_score=False, random_state=None,\n",
              "                       verbose=0, warm_start=False)"
            ]
          },
          "metadata": {
            "tags": []
          },
          "execution_count": 380
        }
      ]
    },
    {
      "cell_type": "code",
      "metadata": {
        "id": "LmuqDgBcWx5U",
        "colab_type": "code",
        "colab": {}
      },
      "source": [
        "gender_prediction = gender_model.predict(X_gender_test)"
      ],
      "execution_count": 0,
      "outputs": []
    },
    {
      "cell_type": "code",
      "metadata": {
        "id": "Or0JIfFTXP8f",
        "colab_type": "code",
        "colab": {
          "base_uri": "https://localhost:8080/",
          "height": 34
        },
        "outputId": "66752e1a-b473-4f93-e629-1af15dbc5870"
      },
      "source": [
        "roc_auc_score(y_gender_test, gender_prediction)"
      ],
      "execution_count": 382,
      "outputs": [
        {
          "output_type": "execute_result",
          "data": {
            "text/plain": [
              "0.9848548219794012"
            ]
          },
          "metadata": {
            "tags": []
          },
          "execution_count": 382
        }
      ]
    },
    {
      "cell_type": "code",
      "metadata": {
        "id": "mlhLpL4JXZ06",
        "colab_type": "code",
        "colab": {}
      },
      "source": [
        "fpr, tpr, thresholds = metrics.roc_curve(y_gender_test, gender_prediction)"
      ],
      "execution_count": 0,
      "outputs": []
    },
    {
      "cell_type": "code",
      "metadata": {
        "id": "hKEyCc3cZpF4",
        "colab_type": "code",
        "colab": {
          "base_uri": "https://localhost:8080/",
          "height": 51
        },
        "outputId": "b3a1b1c2-e231-4e39-8ec3-26422034d48c"
      },
      "source": [
        "print(confusion_matrix(y_gender_test,gender_prediction))"
      ],
      "execution_count": 384,
      "outputs": [
        {
          "output_type": "stream",
          "text": [
            "[[1654   17]\n",
            " [  31 1510]]\n"
          ],
          "name": "stdout"
        }
      ]
    },
    {
      "cell_type": "markdown",
      "metadata": {
        "id": "4fpd61IyZ95b",
        "colab_type": "text"
      },
      "source": [
        "**The model Prediction for gender looks good so we can go ahead and predict the missing gender using this model**"
      ]
    },
    {
      "cell_type": "code",
      "metadata": {
        "id": "O8Q8abdak6s9",
        "colab_type": "code",
        "colab": {
          "base_uri": "https://localhost:8080/",
          "height": 224
        },
        "outputId": "ba6a81de-3d78-47f0-c947-a6586a40d6ec"
      },
      "source": [
        "gender_test.head()"
      ],
      "execution_count": 385,
      "outputs": [
        {
          "output_type": "execute_result",
          "data": {
            "text/html": [
              "<div>\n",
              "<style scoped>\n",
              "    .dataframe tbody tr th:only-of-type {\n",
              "        vertical-align: middle;\n",
              "    }\n",
              "\n",
              "    .dataframe tbody tr th {\n",
              "        vertical-align: top;\n",
              "    }\n",
              "\n",
              "    .dataframe thead th {\n",
              "        text-align: right;\n",
              "    }\n",
              "</style>\n",
              "<table border=\"1\" class=\"dataframe\">\n",
              "  <thead>\n",
              "    <tr style=\"text-align: right;\">\n",
              "      <th></th>\n",
              "      <th>cost_of_ad</th>\n",
              "      <th>in_initial_launch_location</th>\n",
              "      <th>normal_income</th>\n",
              "      <th>drivers_2</th>\n",
              "      <th>device_desktop</th>\n",
              "      <th>device_iPhone</th>\n",
              "      <th>device_laptop</th>\n",
              "      <th>device_other</th>\n",
              "      <th>vehicle_2</th>\n",
              "      <th>vehicle_3</th>\n",
              "      <th>age_adult</th>\n",
              "      <th>age_mid</th>\n",
              "      <th>age_senior</th>\n",
              "      <th>tenure_2</th>\n",
              "      <th>tenure_3</th>\n",
              "      <th>tenure_4</th>\n",
              "    </tr>\n",
              "  </thead>\n",
              "  <tbody>\n",
              "    <tr>\n",
              "      <th>15</th>\n",
              "      <td>0.003519</td>\n",
              "      <td>0</td>\n",
              "      <td>0.664970</td>\n",
              "      <td>0</td>\n",
              "      <td>0</td>\n",
              "      <td>0</td>\n",
              "      <td>0</td>\n",
              "      <td>0</td>\n",
              "      <td>0</td>\n",
              "      <td>1</td>\n",
              "      <td>1</td>\n",
              "      <td>0</td>\n",
              "      <td>0</td>\n",
              "      <td>0</td>\n",
              "      <td>1</td>\n",
              "      <td>0</td>\n",
              "    </tr>\n",
              "    <tr>\n",
              "      <th>38</th>\n",
              "      <td>0.005529</td>\n",
              "      <td>0</td>\n",
              "      <td>0.846694</td>\n",
              "      <td>1</td>\n",
              "      <td>0</td>\n",
              "      <td>1</td>\n",
              "      <td>0</td>\n",
              "      <td>0</td>\n",
              "      <td>0</td>\n",
              "      <td>1</td>\n",
              "      <td>0</td>\n",
              "      <td>0</td>\n",
              "      <td>1</td>\n",
              "      <td>0</td>\n",
              "      <td>1</td>\n",
              "      <td>0</td>\n",
              "    </tr>\n",
              "    <tr>\n",
              "      <th>91</th>\n",
              "      <td>0.005510</td>\n",
              "      <td>0</td>\n",
              "      <td>0.431249</td>\n",
              "      <td>0</td>\n",
              "      <td>0</td>\n",
              "      <td>1</td>\n",
              "      <td>0</td>\n",
              "      <td>0</td>\n",
              "      <td>0</td>\n",
              "      <td>1</td>\n",
              "      <td>1</td>\n",
              "      <td>0</td>\n",
              "      <td>0</td>\n",
              "      <td>1</td>\n",
              "      <td>0</td>\n",
              "      <td>0</td>\n",
              "    </tr>\n",
              "    <tr>\n",
              "      <th>113</th>\n",
              "      <td>0.004282</td>\n",
              "      <td>0</td>\n",
              "      <td>0.677740</td>\n",
              "      <td>1</td>\n",
              "      <td>0</td>\n",
              "      <td>0</td>\n",
              "      <td>0</td>\n",
              "      <td>0</td>\n",
              "      <td>1</td>\n",
              "      <td>0</td>\n",
              "      <td>0</td>\n",
              "      <td>1</td>\n",
              "      <td>0</td>\n",
              "      <td>0</td>\n",
              "      <td>0</td>\n",
              "      <td>1</td>\n",
              "    </tr>\n",
              "    <tr>\n",
              "      <th>122</th>\n",
              "      <td>0.005518</td>\n",
              "      <td>0</td>\n",
              "      <td>0.408338</td>\n",
              "      <td>1</td>\n",
              "      <td>0</td>\n",
              "      <td>1</td>\n",
              "      <td>0</td>\n",
              "      <td>0</td>\n",
              "      <td>0</td>\n",
              "      <td>1</td>\n",
              "      <td>1</td>\n",
              "      <td>0</td>\n",
              "      <td>0</td>\n",
              "      <td>1</td>\n",
              "      <td>0</td>\n",
              "      <td>0</td>\n",
              "    </tr>\n",
              "  </tbody>\n",
              "</table>\n",
              "</div>"
            ],
            "text/plain": [
              "     cost_of_ad  in_initial_launch_location  ...  tenure_3  tenure_4\n",
              "15     0.003519                           0  ...         1         0\n",
              "38     0.005529                           0  ...         1         0\n",
              "91     0.005510                           0  ...         0         0\n",
              "113    0.004282                           0  ...         0         1\n",
              "122    0.005518                           0  ...         0         0\n",
              "\n",
              "[5 rows x 16 columns]"
            ]
          },
          "metadata": {
            "tags": []
          },
          "execution_count": 385
        }
      ]
    },
    {
      "cell_type": "code",
      "metadata": {
        "id": "v8-Wuaw-R9wH",
        "colab_type": "code",
        "colab": {
          "base_uri": "https://localhost:8080/",
          "height": 102
        },
        "outputId": "c129c88a-abf7-4562-e064-e8a6320b8e58"
      },
      "source": [
        "new_test_gender_test.columns"
      ],
      "execution_count": 386,
      "outputs": [
        {
          "output_type": "execute_result",
          "data": {
            "text/plain": [
              "Index(['cost_of_ad', 'in_initial_launch_location', 'normal_income',\n",
              "       'drivers_2', 'device_desktop', 'device_iPhone', 'device_laptop',\n",
              "       'device_other', 'vehicle_2', 'vehicle_3', 'age_adult', 'age_mid',\n",
              "       'age_senior', 'tenure_2', 'tenure_3', 'tenure_4'],\n",
              "      dtype='object')"
            ]
          },
          "metadata": {
            "tags": []
          },
          "execution_count": 386
        }
      ]
    },
    {
      "cell_type": "code",
      "metadata": {
        "id": "29oHwNOSSGgA",
        "colab_type": "code",
        "colab": {
          "base_uri": "https://localhost:8080/",
          "height": 102
        },
        "outputId": "f49596f8-99e6-4227-9746-fef5b5c5bb65"
      },
      "source": [
        "gender_test.columns"
      ],
      "execution_count": 387,
      "outputs": [
        {
          "output_type": "execute_result",
          "data": {
            "text/plain": [
              "Index(['cost_of_ad', 'in_initial_launch_location', 'normal_income',\n",
              "       'drivers_2', 'device_desktop', 'device_iPhone', 'device_laptop',\n",
              "       'device_other', 'vehicle_2', 'vehicle_3', 'age_adult', 'age_mid',\n",
              "       'age_senior', 'tenure_2', 'tenure_3', 'tenure_4'],\n",
              "      dtype='object')"
            ]
          },
          "metadata": {
            "tags": []
          },
          "execution_count": 387
        }
      ]
    },
    {
      "cell_type": "code",
      "metadata": {
        "id": "pCIZpF73ZydO",
        "colab_type": "code",
        "colab": {}
      },
      "source": [
        "missing_prediction = gender_model.predict(gender_test)\n",
        "\n",
        "#Predicitng for the test data\n",
        "missing_test_gender_prediction = gender_model.predict(new_test_gender_test)"
      ],
      "execution_count": 0,
      "outputs": []
    },
    {
      "cell_type": "code",
      "metadata": {
        "id": "NymdsQoXpDFW",
        "colab_type": "code",
        "colab": {
          "base_uri": "https://localhost:8080/",
          "height": 221
        },
        "outputId": "2245bef2-3a93-45a0-93b3-e46674d2d933"
      },
      "source": [
        "#Setting values back to train and test dat frames\n",
        "gender_train['Gen_M'] = Y_gender\n",
        "gender_test['Gen_M'] = missing_prediction\n",
        "\n",
        "#Test Data\n",
        "new_test_gender_test['Gen_M'] = missing_test_gender_prediction"
      ],
      "execution_count": 389,
      "outputs": [
        {
          "output_type": "stream",
          "text": [
            "/usr/local/lib/python3.6/dist-packages/ipykernel_launcher.py:2: SettingWithCopyWarning: \n",
            "A value is trying to be set on a copy of a slice from a DataFrame.\n",
            "Try using .loc[row_indexer,col_indexer] = value instead\n",
            "\n",
            "See the caveats in the documentation: http://pandas.pydata.org/pandas-docs/stable/user_guide/indexing.html#returning-a-view-versus-a-copy\n",
            "  \n",
            "/usr/local/lib/python3.6/dist-packages/ipykernel_launcher.py:5: SettingWithCopyWarning: \n",
            "A value is trying to be set on a copy of a slice from a DataFrame.\n",
            "Try using .loc[row_indexer,col_indexer] = value instead\n",
            "\n",
            "See the caveats in the documentation: http://pandas.pydata.org/pandas-docs/stable/user_guide/indexing.html#returning-a-view-versus-a-copy\n",
            "  \"\"\"\n"
          ],
          "name": "stderr"
        }
      ]
    },
    {
      "cell_type": "code",
      "metadata": {
        "id": "iVc58f1whHG2",
        "colab_type": "code",
        "colab": {
          "base_uri": "https://localhost:8080/",
          "height": 102
        },
        "outputId": "b41f216e-fb88-4691-b910-3728b650c797"
      },
      "source": [
        "gender_train.columns"
      ],
      "execution_count": 390,
      "outputs": [
        {
          "output_type": "execute_result",
          "data": {
            "text/plain": [
              "Index(['cost_of_ad', 'in_initial_launch_location', 'normal_income',\n",
              "       'drivers_2', 'device_desktop', 'device_iPhone', 'device_laptop',\n",
              "       'device_other', 'vehicle_2', 'vehicle_3', 'age_adult', 'age_mid',\n",
              "       'age_senior', 'tenure_2', 'tenure_3', 'tenure_4', 'Gen_M'],\n",
              "      dtype='object')"
            ]
          },
          "metadata": {
            "tags": []
          },
          "execution_count": 390
        }
      ]
    },
    {
      "cell_type": "markdown",
      "metadata": {
        "id": "OhYiwhKXD13y",
        "colab_type": "text"
      },
      "source": [
        "**Concatenating the two dataframes woth gender values**"
      ]
    },
    {
      "cell_type": "code",
      "metadata": {
        "id": "t-C4i-TtYmvj",
        "colab_type": "code",
        "colab": {}
      },
      "source": [
        "new_df= pd.concat([gender_test,gender_train])\n",
        "\n",
        "#Test Data\n",
        "new_test_df= pd.concat([new_test_gender_test,new_test_gender_train])"
      ],
      "execution_count": 0,
      "outputs": []
    },
    {
      "cell_type": "code",
      "metadata": {
        "id": "FSRov35zmo3_",
        "colab_type": "code",
        "colab": {
          "base_uri": "https://localhost:8080/",
          "height": 68
        },
        "outputId": "9f0f98c7-4985-41c7-f495-0bc843b21543"
      },
      "source": [
        "new_df['Gen_M'].value_counts()"
      ],
      "execution_count": 392,
      "outputs": [
        {
          "output_type": "execute_result",
          "data": {
            "text/plain": [
              "1    5026\n",
              "0    4974\n",
              "Name: Gen_M, dtype: int64"
            ]
          },
          "metadata": {
            "tags": []
          },
          "execution_count": 392
        }
      ]
    },
    {
      "cell_type": "code",
      "metadata": {
        "id": "sjfjp5t2ZXKQ",
        "colab_type": "code",
        "colab": {
          "base_uri": "https://localhost:8080/",
          "height": 34
        },
        "outputId": "aab56367-f5ed-44db-e6c2-efb3d7724349"
      },
      "source": [
        "new_df.shape"
      ],
      "execution_count": 393,
      "outputs": [
        {
          "output_type": "execute_result",
          "data": {
            "text/plain": [
              "(10000, 17)"
            ]
          },
          "metadata": {
            "tags": []
          },
          "execution_count": 393
        }
      ]
    },
    {
      "cell_type": "code",
      "metadata": {
        "id": "CQZ1ZaGx5ot2",
        "colab_type": "code",
        "colab": {}
      },
      "source": [
        "Y = Y_outcome"
      ],
      "execution_count": 0,
      "outputs": []
    },
    {
      "cell_type": "code",
      "metadata": {
        "id": "aEr6sN5c5vJ0",
        "colab_type": "code",
        "colab": {}
      },
      "source": [
        "X =new_df"
      ],
      "execution_count": 0,
      "outputs": []
    },
    {
      "cell_type": "markdown",
      "metadata": {
        "id": "7kuO-ZUdECqC",
        "colab_type": "text"
      },
      "source": [
        "**Handling the Imbalanced data using SMOTE variant**"
      ]
    },
    {
      "cell_type": "code",
      "metadata": {
        "id": "7Dr7W4FdbfXf",
        "colab_type": "code",
        "colab": {}
      },
      "source": [
        "from imblearn.combine import SMOTETomek"
      ],
      "execution_count": 0,
      "outputs": []
    },
    {
      "cell_type": "code",
      "metadata": {
        "id": "LZV1hwEyZU83",
        "colab_type": "code",
        "colab": {
          "base_uri": "https://localhost:8080/",
          "height": 105
        },
        "outputId": "7b9b7145-8a9d-4d26-a87d-689c3cb2f1e6"
      },
      "source": [
        "smt = SMOTETomek(ratio='auto')\n",
        "X_smt, y_smt = smt.fit_sample(X, Y)"
      ],
      "execution_count": 397,
      "outputs": [
        {
          "output_type": "stream",
          "text": [
            "/usr/local/lib/python3.6/dist-packages/sklearn/utils/deprecation.py:87: FutureWarning: Function safe_indexing is deprecated; safe_indexing is deprecated in version 0.22 and will be removed in version 0.24.\n",
            "  warnings.warn(msg, category=FutureWarning)\n",
            "/usr/local/lib/python3.6/dist-packages/sklearn/utils/deprecation.py:87: FutureWarning: Function safe_indexing is deprecated; safe_indexing is deprecated in version 0.22 and will be removed in version 0.24.\n",
            "  warnings.warn(msg, category=FutureWarning)\n"
          ],
          "name": "stderr"
        }
      ]
    },
    {
      "cell_type": "code",
      "metadata": {
        "id": "bXoTmbcWYxn3",
        "colab_type": "code",
        "colab": {}
      },
      "source": [
        "X_train, X_test, y_train, y_test = train_test_split(X_smt, y_smt, test_size=0.33, random_state=42)"
      ],
      "execution_count": 0,
      "outputs": []
    },
    {
      "cell_type": "code",
      "metadata": {
        "id": "ZJ5I3yRODTDe",
        "colab_type": "code",
        "colab": {
          "base_uri": "https://localhost:8080/",
          "height": 153
        },
        "outputId": "d66fd087-a9e0-446a-b7df-6e6516b5984c"
      },
      "source": [
        "target_model=RandomForestClassifier(n_estimators=100)\n",
        "\n",
        "#Traing the model\n",
        "target_model.fit(X_train,y_train)"
      ],
      "execution_count": 399,
      "outputs": [
        {
          "output_type": "execute_result",
          "data": {
            "text/plain": [
              "RandomForestClassifier(bootstrap=True, ccp_alpha=0.0, class_weight=None,\n",
              "                       criterion='gini', max_depth=None, max_features='auto',\n",
              "                       max_leaf_nodes=None, max_samples=None,\n",
              "                       min_impurity_decrease=0.0, min_impurity_split=None,\n",
              "                       min_samples_leaf=1, min_samples_split=2,\n",
              "                       min_weight_fraction_leaf=0.0, n_estimators=100,\n",
              "                       n_jobs=None, oob_score=False, random_state=None,\n",
              "                       verbose=0, warm_start=False)"
            ]
          },
          "metadata": {
            "tags": []
          },
          "execution_count": 399
        }
      ]
    },
    {
      "cell_type": "code",
      "metadata": {
        "id": "Vfj2G-75Deob",
        "colab_type": "code",
        "colab": {}
      },
      "source": [
        "preds = target_model.predict(X_test)"
      ],
      "execution_count": 0,
      "outputs": []
    },
    {
      "cell_type": "code",
      "metadata": {
        "id": "eIew6UQcKua5",
        "colab_type": "code",
        "colab": {
          "base_uri": "https://localhost:8080/",
          "height": 34
        },
        "outputId": "535926b9-9186-4233-f99c-f5daeeffda7e"
      },
      "source": [
        "roc_auc_score(y_test, preds)"
      ],
      "execution_count": 401,
      "outputs": [
        {
          "output_type": "execute_result",
          "data": {
            "text/plain": [
              "0.9353473595300712"
            ]
          },
          "metadata": {
            "tags": []
          },
          "execution_count": 401
        }
      ]
    },
    {
      "cell_type": "markdown",
      "metadata": {
        "id": "JKDXEPuTEnJ4",
        "colab_type": "text"
      },
      "source": [
        "**AUC score is 0.935 from this model**"
      ]
    },
    {
      "cell_type": "code",
      "metadata": {
        "id": "V7vALmF77KLl",
        "colab_type": "code",
        "colab": {}
      },
      "source": [
        "fpr, tpr, thresholds = metrics.roc_curve(y_test, preds)"
      ],
      "execution_count": 0,
      "outputs": []
    },
    {
      "cell_type": "code",
      "metadata": {
        "id": "MAvBqK1S7NlM",
        "colab_type": "code",
        "colab": {}
      },
      "source": [
        "roc_auc = metrics.auc(fpr, tpr)"
      ],
      "execution_count": 0,
      "outputs": []
    },
    {
      "cell_type": "markdown",
      "metadata": {
        "id": "jyCNP_ZkEvkS",
        "colab_type": "text"
      },
      "source": [
        "**Plotting the ROC**"
      ]
    },
    {
      "cell_type": "code",
      "metadata": {
        "id": "Pk9hvo5F7R1y",
        "colab_type": "code",
        "colab": {
          "base_uri": "https://localhost:8080/",
          "height": 295
        },
        "outputId": "807e564a-97b9-4d8d-be90-35bc241afa88"
      },
      "source": [
        "import matplotlib.pyplot as plt\n",
        "plt.title('Receiver Operating Characteristic')\n",
        "plt.plot(fpr, tpr, 'b', label = 'AUC = %0.2f' % roc_auc)\n",
        "plt.legend(loc = 'lower right')\n",
        "plt.plot([0, 1], [0, 1],'r--')\n",
        "plt.xlim([0, 1])\n",
        "plt.ylim([0, 1])\n",
        "plt.ylabel('True Positive Rate')\n",
        "plt.xlabel('False Positive Rate')\n",
        "plt.show()"
      ],
      "execution_count": 404,
      "outputs": [
        {
          "output_type": "display_data",
          "data": {
            "image/png": "[encoded data removed]",
            "text/plain": [
              "<Figure size 432x288 with 1 Axes>"
            ]
          },
          "metadata": {
            "tags": []
          }
        }
      ]
    },
    {
      "cell_type": "markdown",
      "metadata": {
        "id": "9EWN3hXmFien",
        "colab_type": "text"
      },
      "source": [
        "**We can now use the test data we prepared all the way**"
      ]
    },
    {
      "cell_type": "code",
      "metadata": {
        "id": "6eBtbuyWJZox",
        "colab_type": "code",
        "colab": {
          "base_uri": "https://localhost:8080/",
          "height": 224
        },
        "outputId": "5ca77715-bdb5-4e7d-8392-0f36a3563be0"
      },
      "source": [
        "new_test_df.head()"
      ],
      "execution_count": 405,
      "outputs": [
        {
          "output_type": "execute_result",
          "data": {
            "text/html": [
              "<div>\n",
              "<style scoped>\n",
              "    .dataframe tbody tr th:only-of-type {\n",
              "        vertical-align: middle;\n",
              "    }\n",
              "\n",
              "    .dataframe tbody tr th {\n",
              "        vertical-align: top;\n",
              "    }\n",
              "\n",
              "    .dataframe thead th {\n",
              "        text-align: right;\n",
              "    }\n",
              "</style>\n",
              "<table border=\"1\" class=\"dataframe\">\n",
              "  <thead>\n",
              "    <tr style=\"text-align: right;\">\n",
              "      <th></th>\n",
              "      <th>cost_of_ad</th>\n",
              "      <th>in_initial_launch_location</th>\n",
              "      <th>normal_income</th>\n",
              "      <th>drivers_2</th>\n",
              "      <th>device_desktop</th>\n",
              "      <th>device_iPhone</th>\n",
              "      <th>device_laptop</th>\n",
              "      <th>device_other</th>\n",
              "      <th>vehicle_2</th>\n",
              "      <th>vehicle_3</th>\n",
              "      <th>age_adult</th>\n",
              "      <th>age_mid</th>\n",
              "      <th>age_senior</th>\n",
              "      <th>tenure_2</th>\n",
              "      <th>tenure_3</th>\n",
              "      <th>tenure_4</th>\n",
              "      <th>Gen_M</th>\n",
              "    </tr>\n",
              "  </thead>\n",
              "  <tbody>\n",
              "    <tr>\n",
              "      <th>69</th>\n",
              "      <td>0.003440</td>\n",
              "      <td>0</td>\n",
              "      <td>0.630430</td>\n",
              "      <td>0</td>\n",
              "      <td>1</td>\n",
              "      <td>0</td>\n",
              "      <td>0</td>\n",
              "      <td>0</td>\n",
              "      <td>1</td>\n",
              "      <td>0</td>\n",
              "      <td>1</td>\n",
              "      <td>0</td>\n",
              "      <td>0</td>\n",
              "      <td>1</td>\n",
              "      <td>0</td>\n",
              "      <td>0</td>\n",
              "      <td>1</td>\n",
              "    </tr>\n",
              "    <tr>\n",
              "      <th>78</th>\n",
              "      <td>0.003442</td>\n",
              "      <td>0</td>\n",
              "      <td>0.234080</td>\n",
              "      <td>1</td>\n",
              "      <td>0</td>\n",
              "      <td>0</td>\n",
              "      <td>0</td>\n",
              "      <td>1</td>\n",
              "      <td>1</td>\n",
              "      <td>0</td>\n",
              "      <td>1</td>\n",
              "      <td>0</td>\n",
              "      <td>0</td>\n",
              "      <td>0</td>\n",
              "      <td>1</td>\n",
              "      <td>0</td>\n",
              "      <td>1</td>\n",
              "    </tr>\n",
              "    <tr>\n",
              "      <th>81</th>\n",
              "      <td>0.003662</td>\n",
              "      <td>0</td>\n",
              "      <td>0.660314</td>\n",
              "      <td>0</td>\n",
              "      <td>1</td>\n",
              "      <td>0</td>\n",
              "      <td>0</td>\n",
              "      <td>0</td>\n",
              "      <td>0</td>\n",
              "      <td>1</td>\n",
              "      <td>0</td>\n",
              "      <td>1</td>\n",
              "      <td>0</td>\n",
              "      <td>0</td>\n",
              "      <td>1</td>\n",
              "      <td>0</td>\n",
              "      <td>1</td>\n",
              "    </tr>\n",
              "    <tr>\n",
              "      <th>109</th>\n",
              "      <td>0.003578</td>\n",
              "      <td>0</td>\n",
              "      <td>0.113829</td>\n",
              "      <td>1</td>\n",
              "      <td>0</td>\n",
              "      <td>0</td>\n",
              "      <td>0</td>\n",
              "      <td>0</td>\n",
              "      <td>0</td>\n",
              "      <td>1</td>\n",
              "      <td>0</td>\n",
              "      <td>0</td>\n",
              "      <td>0</td>\n",
              "      <td>1</td>\n",
              "      <td>0</td>\n",
              "      <td>0</td>\n",
              "      <td>1</td>\n",
              "    </tr>\n",
              "    <tr>\n",
              "      <th>222</th>\n",
              "      <td>0.003304</td>\n",
              "      <td>1</td>\n",
              "      <td>0.418298</td>\n",
              "      <td>0</td>\n",
              "      <td>0</td>\n",
              "      <td>0</td>\n",
              "      <td>0</td>\n",
              "      <td>0</td>\n",
              "      <td>0</td>\n",
              "      <td>0</td>\n",
              "      <td>0</td>\n",
              "      <td>0</td>\n",
              "      <td>0</td>\n",
              "      <td>1</td>\n",
              "      <td>0</td>\n",
              "      <td>0</td>\n",
              "      <td>1</td>\n",
              "    </tr>\n",
              "  </tbody>\n",
              "</table>\n",
              "</div>"
            ],
            "text/plain": [
              "     cost_of_ad  in_initial_launch_location  ...  tenure_4  Gen_M\n",
              "69     0.003440                           0  ...         0      1\n",
              "78     0.003442                           0  ...         0      1\n",
              "81     0.003662                           0  ...         0      1\n",
              "109    0.003578                           0  ...         0      1\n",
              "222    0.003304                           1  ...         0      1\n",
              "\n",
              "[5 rows x 17 columns]"
            ]
          },
          "metadata": {
            "tags": []
          },
          "execution_count": 405
        }
      ]
    },
    {
      "cell_type": "code",
      "metadata": {
        "id": "F1n5N1ZaUGTC",
        "colab_type": "code",
        "colab": {}
      },
      "source": [
        "test_prediction = target_model.predict(new_test_df)"
      ],
      "execution_count": 0,
      "outputs": []
    },
    {
      "cell_type": "code",
      "metadata": {
        "id": "z0S6gzCgUYjE",
        "colab_type": "code",
        "colab": {}
      },
      "source": [
        "#Addng the prediction to test data\n",
        "new_test_df['predicted_outcome'] = test_prediction"
      ],
      "execution_count": 0,
      "outputs": []
    },
    {
      "cell_type": "markdown",
      "metadata": {
        "id": "9oM-bEF0UsTq",
        "colab_type": "text"
      },
      "source": [
        "**First five predicted values for test data**"
      ]
    },
    {
      "cell_type": "code",
      "metadata": {
        "id": "HuQamJx2Uao8",
        "colab_type": "code",
        "colab": {
          "base_uri": "https://localhost:8080/",
          "height": 119
        },
        "outputId": "38300861-e790-4685-e83f-7ae1042efbcb"
      },
      "source": [
        "new_test_df['predicted_outcome'].head()"
      ],
      "execution_count": 408,
      "outputs": [
        {
          "output_type": "execute_result",
          "data": {
            "text/plain": [
              "69     0\n",
              "78     0\n",
              "81     0\n",
              "109    1\n",
              "222    0\n",
              "Name: predicted_outcome, dtype: int64"
            ]
          },
          "metadata": {
            "tags": []
          },
          "execution_count": 408
        }
      ]
    },
    {
      "cell_type": "code",
      "metadata": {
        "id": "z13bDnBkU3TQ",
        "colab_type": "code",
        "colab": {}
      },
      "source": [
        ""
      ],
      "execution_count": 0,
      "outputs": []
    }
  ]
}